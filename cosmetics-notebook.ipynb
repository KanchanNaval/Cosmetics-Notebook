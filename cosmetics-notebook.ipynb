{
 "cells": [
  {
   "cell_type": "code",
   "execution_count": 1,
   "id": "579c1e43",
   "metadata": {
    "_cell_guid": "b1076dfc-b9ad-4769-8c92-a6c4dae69d19",
    "_uuid": "8f2839f25d086af736a60e9eeb907d3b93b6e0e5",
    "execution": {
     "iopub.execute_input": "2024-06-07T17:58:02.671844Z",
     "iopub.status.busy": "2024-06-07T17:58:02.671442Z",
     "iopub.status.idle": "2024-06-07T17:58:03.607456Z",
     "shell.execute_reply": "2024-06-07T17:58:03.606187Z"
    },
    "papermill": {
     "duration": 0.951261,
     "end_time": "2024-06-07T17:58:03.610106",
     "exception": false,
     "start_time": "2024-06-07T17:58:02.658845",
     "status": "completed"
    },
    "tags": []
   },
   "outputs": [
    {
     "name": "stdout",
     "output_type": "stream",
     "text": [
      "/kaggle/input/cosmetics-datasets/cosmetics.csv\n"
     ]
    }
   ],
   "source": [
    "# This Python 3 environment comes with many helpful analytics libraries installed\n",
    "# It is defined by the kaggle/python Docker image: https://github.com/kaggle/docker-python\n",
    "# For example, here's several helpful packages to load\n",
    "\n",
    "import numpy as np # linear algebra\n",
    "import pandas as pd # data processing, CSV file I/O (e.g. pd.read_csv)\n",
    "\n",
    "# Input data files are available in the read-only \"../input/\" directory\n",
    "# For example, running this (by clicking run or pressing Shift+Enter) will list all files under the input directory\n",
    "\n",
    "import os\n",
    "for dirname, _, filenames in os.walk('/kaggle/input'):\n",
    "    for filename in filenames:\n",
    "        print(os.path.join(dirname, filename))\n",
    "\n",
    "# You can write up to 20GB to the current directory (/kaggle/working/) that gets preserved as output when you create a version using \"Save & Run All\" \n",
    "# You can also write temporary files to /kaggle/temp/, but they won't be saved outside of the current session"
   ]
  },
  {
   "cell_type": "markdown",
   "id": "25a08850",
   "metadata": {
    "papermill": {
     "duration": 0.010047,
     "end_time": "2024-06-07T17:58:03.630799",
     "exception": false,
     "start_time": "2024-06-07T17:58:03.620752",
     "status": "completed"
    },
    "tags": []
   },
   "source": [
    "# Step 1: Import Libraries"
   ]
  },
  {
   "cell_type": "code",
   "execution_count": 2,
   "id": "f2d491e0",
   "metadata": {
    "execution": {
     "iopub.execute_input": "2024-06-07T17:58:03.654935Z",
     "iopub.status.busy": "2024-06-07T17:58:03.654386Z",
     "iopub.status.idle": "2024-06-07T17:58:05.088437Z",
     "shell.execute_reply": "2024-06-07T17:58:05.087303Z"
    },
    "papermill": {
     "duration": 1.449734,
     "end_time": "2024-06-07T17:58:05.091134",
     "exception": false,
     "start_time": "2024-06-07T17:58:03.641400",
     "status": "completed"
    },
    "tags": []
   },
   "outputs": [],
   "source": [
    "import pandas as pd\n",
    "import numpy as np\n",
    "import seaborn as sns\n",
    "import matplotlib.pyplot as plt\n",
    "import warnings\n",
    "warnings.simplefilter(\"ignore\")"
   ]
  },
  {
   "cell_type": "code",
   "execution_count": 3,
   "id": "d7ec7a3c",
   "metadata": {
    "execution": {
     "iopub.execute_input": "2024-06-07T17:58:05.115299Z",
     "iopub.status.busy": "2024-06-07T17:58:05.114267Z",
     "iopub.status.idle": "2024-06-07T17:58:05.179441Z",
     "shell.execute_reply": "2024-06-07T17:58:05.178471Z"
    },
    "papermill": {
     "duration": 0.080075,
     "end_time": "2024-06-07T17:58:05.182338",
     "exception": false,
     "start_time": "2024-06-07T17:58:05.102263",
     "status": "completed"
    },
    "tags": []
   },
   "outputs": [],
   "source": [
    "# Load the dataset\n",
    "df = pd.read_csv('/kaggle/input/cosmetics-datasets/cosmetics.csv')"
   ]
  },
  {
   "cell_type": "code",
   "execution_count": 4,
   "id": "225eec39",
   "metadata": {
    "execution": {
     "iopub.execute_input": "2024-06-07T17:58:05.205101Z",
     "iopub.status.busy": "2024-06-07T17:58:05.204686Z",
     "iopub.status.idle": "2024-06-07T17:58:05.234451Z",
     "shell.execute_reply": "2024-06-07T17:58:05.233107Z"
    },
    "papermill": {
     "duration": 0.04377,
     "end_time": "2024-06-07T17:58:05.236944",
     "exception": false,
     "start_time": "2024-06-07T17:58:05.193174",
     "status": "completed"
    },
    "tags": []
   },
   "outputs": [
    {
     "data": {
      "text/html": [
       "<div>\n",
       "<style scoped>\n",
       "    .dataframe tbody tr th:only-of-type {\n",
       "        vertical-align: middle;\n",
       "    }\n",
       "\n",
       "    .dataframe tbody tr th {\n",
       "        vertical-align: top;\n",
       "    }\n",
       "\n",
       "    .dataframe thead th {\n",
       "        text-align: right;\n",
       "    }\n",
       "</style>\n",
       "<table border=\"1\" class=\"dataframe\">\n",
       "  <thead>\n",
       "    <tr style=\"text-align: right;\">\n",
       "      <th></th>\n",
       "      <th>Label</th>\n",
       "      <th>Brand</th>\n",
       "      <th>Name</th>\n",
       "      <th>Price</th>\n",
       "      <th>Rank</th>\n",
       "      <th>Ingredients</th>\n",
       "      <th>Combination</th>\n",
       "      <th>Dry</th>\n",
       "      <th>Normal</th>\n",
       "      <th>Oily</th>\n",
       "      <th>Sensitive</th>\n",
       "    </tr>\n",
       "  </thead>\n",
       "  <tbody>\n",
       "    <tr>\n",
       "      <th>0</th>\n",
       "      <td>Moisturizer</td>\n",
       "      <td>LA MER</td>\n",
       "      <td>Crème de la Mer</td>\n",
       "      <td>175</td>\n",
       "      <td>4.1</td>\n",
       "      <td>Algae (Seaweed) Extract, Mineral Oil, Petrolat...</td>\n",
       "      <td>1</td>\n",
       "      <td>1</td>\n",
       "      <td>1</td>\n",
       "      <td>1</td>\n",
       "      <td>1</td>\n",
       "    </tr>\n",
       "    <tr>\n",
       "      <th>1</th>\n",
       "      <td>Moisturizer</td>\n",
       "      <td>SK-II</td>\n",
       "      <td>Facial Treatment Essence</td>\n",
       "      <td>179</td>\n",
       "      <td>4.1</td>\n",
       "      <td>Galactomyces Ferment Filtrate (Pitera), Butyle...</td>\n",
       "      <td>1</td>\n",
       "      <td>1</td>\n",
       "      <td>1</td>\n",
       "      <td>1</td>\n",
       "      <td>1</td>\n",
       "    </tr>\n",
       "    <tr>\n",
       "      <th>2</th>\n",
       "      <td>Moisturizer</td>\n",
       "      <td>DRUNK ELEPHANT</td>\n",
       "      <td>Protini™ Polypeptide Cream</td>\n",
       "      <td>68</td>\n",
       "      <td>4.4</td>\n",
       "      <td>Water, Dicaprylyl Carbonate, Glycerin, Ceteary...</td>\n",
       "      <td>1</td>\n",
       "      <td>1</td>\n",
       "      <td>1</td>\n",
       "      <td>1</td>\n",
       "      <td>0</td>\n",
       "    </tr>\n",
       "    <tr>\n",
       "      <th>3</th>\n",
       "      <td>Moisturizer</td>\n",
       "      <td>LA MER</td>\n",
       "      <td>The Moisturizing Soft Cream</td>\n",
       "      <td>175</td>\n",
       "      <td>3.8</td>\n",
       "      <td>Algae (Seaweed) Extract, Cyclopentasiloxane, P...</td>\n",
       "      <td>1</td>\n",
       "      <td>1</td>\n",
       "      <td>1</td>\n",
       "      <td>1</td>\n",
       "      <td>1</td>\n",
       "    </tr>\n",
       "    <tr>\n",
       "      <th>4</th>\n",
       "      <td>Moisturizer</td>\n",
       "      <td>IT COSMETICS</td>\n",
       "      <td>Your Skin But Better™ CC+™ Cream with SPF 50+</td>\n",
       "      <td>38</td>\n",
       "      <td>4.1</td>\n",
       "      <td>Water, Snail Secretion Filtrate, Phenyl Trimet...</td>\n",
       "      <td>1</td>\n",
       "      <td>1</td>\n",
       "      <td>1</td>\n",
       "      <td>1</td>\n",
       "      <td>1</td>\n",
       "    </tr>\n",
       "  </tbody>\n",
       "</table>\n",
       "</div>"
      ],
      "text/plain": [
       "         Label           Brand                                           Name  \\\n",
       "0  Moisturizer          LA MER                                Crème de la Mer   \n",
       "1  Moisturizer           SK-II                       Facial Treatment Essence   \n",
       "2  Moisturizer  DRUNK ELEPHANT                     Protini™ Polypeptide Cream   \n",
       "3  Moisturizer          LA MER                    The Moisturizing Soft Cream   \n",
       "4  Moisturizer    IT COSMETICS  Your Skin But Better™ CC+™ Cream with SPF 50+   \n",
       "\n",
       "   Price  Rank                                        Ingredients  \\\n",
       "0    175   4.1  Algae (Seaweed) Extract, Mineral Oil, Petrolat...   \n",
       "1    179   4.1  Galactomyces Ferment Filtrate (Pitera), Butyle...   \n",
       "2     68   4.4  Water, Dicaprylyl Carbonate, Glycerin, Ceteary...   \n",
       "3    175   3.8  Algae (Seaweed) Extract, Cyclopentasiloxane, P...   \n",
       "4     38   4.1  Water, Snail Secretion Filtrate, Phenyl Trimet...   \n",
       "\n",
       "   Combination  Dry  Normal  Oily  Sensitive  \n",
       "0            1    1       1     1          1  \n",
       "1            1    1       1     1          1  \n",
       "2            1    1       1     1          0  \n",
       "3            1    1       1     1          1  \n",
       "4            1    1       1     1          1  "
      ]
     },
     "execution_count": 4,
     "metadata": {},
     "output_type": "execute_result"
    }
   ],
   "source": [
    "# Display the first few rows of the dataset\n",
    "df.head(5)"
   ]
  },
  {
   "cell_type": "code",
   "execution_count": 5,
   "id": "382d76b1",
   "metadata": {
    "execution": {
     "iopub.execute_input": "2024-06-07T17:58:05.261317Z",
     "iopub.status.busy": "2024-06-07T17:58:05.260591Z",
     "iopub.status.idle": "2024-06-07T17:58:05.283131Z",
     "shell.execute_reply": "2024-06-07T17:58:05.282077Z"
    },
    "papermill": {
     "duration": 0.037452,
     "end_time": "2024-06-07T17:58:05.285595",
     "exception": false,
     "start_time": "2024-06-07T17:58:05.248143",
     "status": "completed"
    },
    "tags": []
   },
   "outputs": [
    {
     "data": {
      "text/html": [
       "<div>\n",
       "<style scoped>\n",
       "    .dataframe tbody tr th:only-of-type {\n",
       "        vertical-align: middle;\n",
       "    }\n",
       "\n",
       "    .dataframe tbody tr th {\n",
       "        vertical-align: top;\n",
       "    }\n",
       "\n",
       "    .dataframe thead th {\n",
       "        text-align: right;\n",
       "    }\n",
       "</style>\n",
       "<table border=\"1\" class=\"dataframe\">\n",
       "  <thead>\n",
       "    <tr style=\"text-align: right;\">\n",
       "      <th></th>\n",
       "      <th>Label</th>\n",
       "      <th>Brand</th>\n",
       "      <th>Name</th>\n",
       "      <th>Price</th>\n",
       "      <th>Rank</th>\n",
       "      <th>Ingredients</th>\n",
       "      <th>Combination</th>\n",
       "      <th>Dry</th>\n",
       "      <th>Normal</th>\n",
       "      <th>Oily</th>\n",
       "      <th>Sensitive</th>\n",
       "    </tr>\n",
       "  </thead>\n",
       "  <tbody>\n",
       "    <tr>\n",
       "      <th>73</th>\n",
       "      <td>Moisturizer</td>\n",
       "      <td>ESTÉE LAUDER</td>\n",
       "      <td>Revitalizing Supreme Global Anti-Aging Crème</td>\n",
       "      <td>82</td>\n",
       "      <td>4.4</td>\n",
       "      <td>Revitalizing Supreme+ Cell Pwr Crm Division: E...</td>\n",
       "      <td>0</td>\n",
       "      <td>0</td>\n",
       "      <td>0</td>\n",
       "      <td>0</td>\n",
       "      <td>0</td>\n",
       "    </tr>\n",
       "    <tr>\n",
       "      <th>340</th>\n",
       "      <td>Cleanser</td>\n",
       "      <td>CAUDALIE</td>\n",
       "      <td>Moisturizing Toner</td>\n",
       "      <td>28</td>\n",
       "      <td>4.4</td>\n",
       "      <td>Water, Butylene Glycol, Peg-40 Hydrogenated Ca...</td>\n",
       "      <td>1</td>\n",
       "      <td>1</td>\n",
       "      <td>1</td>\n",
       "      <td>1</td>\n",
       "      <td>1</td>\n",
       "    </tr>\n",
       "    <tr>\n",
       "      <th>606</th>\n",
       "      <td>Treatment</td>\n",
       "      <td>FIRST AID BEAUTY</td>\n",
       "      <td>Facial Radiance Pads</td>\n",
       "      <td>30</td>\n",
       "      <td>4.3</td>\n",
       "      <td>Water, Aloe Barbadensis Leaf Juice, Glycerin, ...</td>\n",
       "      <td>1</td>\n",
       "      <td>1</td>\n",
       "      <td>1</td>\n",
       "      <td>1</td>\n",
       "      <td>1</td>\n",
       "    </tr>\n",
       "    <tr>\n",
       "      <th>635</th>\n",
       "      <td>Treatment</td>\n",
       "      <td>FRESH</td>\n",
       "      <td>Rose Deep Hydration Face Serum</td>\n",
       "      <td>48</td>\n",
       "      <td>4.3</td>\n",
       "      <td>Water, Glycerin,Propanediol, Maris Aqua (Sea W...</td>\n",
       "      <td>0</td>\n",
       "      <td>0</td>\n",
       "      <td>0</td>\n",
       "      <td>0</td>\n",
       "      <td>0</td>\n",
       "    </tr>\n",
       "    <tr>\n",
       "      <th>435</th>\n",
       "      <td>Cleanser</td>\n",
       "      <td>CAUDALIE</td>\n",
       "      <td>Gentle Cleansing Milk</td>\n",
       "      <td>28</td>\n",
       "      <td>4.1</td>\n",
       "      <td>Water, Cetearyl Isononanoate*, Butylene Glycol...</td>\n",
       "      <td>1</td>\n",
       "      <td>1</td>\n",
       "      <td>1</td>\n",
       "      <td>1</td>\n",
       "      <td>1</td>\n",
       "    </tr>\n",
       "  </tbody>\n",
       "</table>\n",
       "</div>"
      ],
      "text/plain": [
       "           Label             Brand  \\\n",
       "73   Moisturizer      ESTÉE LAUDER   \n",
       "340     Cleanser          CAUDALIE   \n",
       "606    Treatment  FIRST AID BEAUTY   \n",
       "635    Treatment             FRESH   \n",
       "435     Cleanser          CAUDALIE   \n",
       "\n",
       "                                             Name  Price  Rank  \\\n",
       "73   Revitalizing Supreme Global Anti-Aging Crème     82   4.4   \n",
       "340                            Moisturizing Toner     28   4.4   \n",
       "606                          Facial Radiance Pads     30   4.3   \n",
       "635                Rose Deep Hydration Face Serum     48   4.3   \n",
       "435                         Gentle Cleansing Milk     28   4.1   \n",
       "\n",
       "                                           Ingredients  Combination  Dry  \\\n",
       "73   Revitalizing Supreme+ Cell Pwr Crm Division: E...            0    0   \n",
       "340  Water, Butylene Glycol, Peg-40 Hydrogenated Ca...            1    1   \n",
       "606  Water, Aloe Barbadensis Leaf Juice, Glycerin, ...            1    1   \n",
       "635  Water, Glycerin,Propanediol, Maris Aqua (Sea W...            0    0   \n",
       "435  Water, Cetearyl Isononanoate*, Butylene Glycol...            1    1   \n",
       "\n",
       "     Normal  Oily  Sensitive  \n",
       "73        0     0          0  \n",
       "340       1     1          1  \n",
       "606       1     1          1  \n",
       "635       0     0          0  \n",
       "435       1     1          1  "
      ]
     },
     "execution_count": 5,
     "metadata": {},
     "output_type": "execute_result"
    }
   ],
   "source": [
    "df.sample(5)"
   ]
  },
  {
   "cell_type": "markdown",
   "id": "ce8b7b86",
   "metadata": {
    "papermill": {
     "duration": 0.011006,
     "end_time": "2024-06-07T17:58:05.308551",
     "exception": false,
     "start_time": "2024-06-07T17:58:05.297545",
     "status": "completed"
    },
    "tags": []
   },
   "source": [
    "# Step 2: Exploring the Datadf.isnull().sum()"
   ]
  },
  {
   "cell_type": "code",
   "execution_count": 6,
   "id": "2d9213f8",
   "metadata": {
    "execution": {
     "iopub.execute_input": "2024-06-07T17:58:05.333319Z",
     "iopub.status.busy": "2024-06-07T17:58:05.332343Z",
     "iopub.status.idle": "2024-06-07T17:58:05.354445Z",
     "shell.execute_reply": "2024-06-07T17:58:05.353335Z"
    },
    "papermill": {
     "duration": 0.037505,
     "end_time": "2024-06-07T17:58:05.357286",
     "exception": false,
     "start_time": "2024-06-07T17:58:05.319781",
     "status": "completed"
    },
    "tags": []
   },
   "outputs": [
    {
     "name": "stdout",
     "output_type": "stream",
     "text": [
      "<class 'pandas.core.frame.DataFrame'>\n",
      "RangeIndex: 1472 entries, 0 to 1471\n",
      "Data columns (total 11 columns):\n",
      " #   Column       Non-Null Count  Dtype  \n",
      "---  ------       --------------  -----  \n",
      " 0   Label        1472 non-null   object \n",
      " 1   Brand        1472 non-null   object \n",
      " 2   Name         1472 non-null   object \n",
      " 3   Price        1472 non-null   int64  \n",
      " 4   Rank         1472 non-null   float64\n",
      " 5   Ingredients  1472 non-null   object \n",
      " 6   Combination  1472 non-null   int64  \n",
      " 7   Dry          1472 non-null   int64  \n",
      " 8   Normal       1472 non-null   int64  \n",
      " 9   Oily         1472 non-null   int64  \n",
      " 10  Sensitive    1472 non-null   int64  \n",
      "dtypes: float64(1), int64(6), object(4)\n",
      "memory usage: 126.6+ KB\n"
     ]
    }
   ],
   "source": [
    "df.info()"
   ]
  },
  {
   "cell_type": "code",
   "execution_count": 7,
   "id": "54eb7fb0",
   "metadata": {
    "execution": {
     "iopub.execute_input": "2024-06-07T17:58:05.382446Z",
     "iopub.status.busy": "2024-06-07T17:58:05.382021Z",
     "iopub.status.idle": "2024-06-07T17:58:05.389744Z",
     "shell.execute_reply": "2024-06-07T17:58:05.388516Z"
    },
    "papermill": {
     "duration": 0.023542,
     "end_time": "2024-06-07T17:58:05.392288",
     "exception": false,
     "start_time": "2024-06-07T17:58:05.368746",
     "status": "completed"
    },
    "tags": []
   },
   "outputs": [
    {
     "data": {
      "text/plain": [
       "Index(['Label', 'Brand', 'Name', 'Price', 'Rank', 'Ingredients', 'Combination',\n",
       "       'Dry', 'Normal', 'Oily', 'Sensitive'],\n",
       "      dtype='object')"
      ]
     },
     "execution_count": 7,
     "metadata": {},
     "output_type": "execute_result"
    }
   ],
   "source": [
    "df.columns"
   ]
  },
  {
   "cell_type": "code",
   "execution_count": 8,
   "id": "032a9e8c",
   "metadata": {
    "execution": {
     "iopub.execute_input": "2024-06-07T17:58:05.417106Z",
     "iopub.status.busy": "2024-06-07T17:58:05.416727Z",
     "iopub.status.idle": "2024-06-07T17:58:05.452154Z",
     "shell.execute_reply": "2024-06-07T17:58:05.451073Z"
    },
    "papermill": {
     "duration": 0.050998,
     "end_time": "2024-06-07T17:58:05.454745",
     "exception": false,
     "start_time": "2024-06-07T17:58:05.403747",
     "status": "completed"
    },
    "tags": []
   },
   "outputs": [
    {
     "data": {
      "text/html": [
       "<div>\n",
       "<style scoped>\n",
       "    .dataframe tbody tr th:only-of-type {\n",
       "        vertical-align: middle;\n",
       "    }\n",
       "\n",
       "    .dataframe tbody tr th {\n",
       "        vertical-align: top;\n",
       "    }\n",
       "\n",
       "    .dataframe thead th {\n",
       "        text-align: right;\n",
       "    }\n",
       "</style>\n",
       "<table border=\"1\" class=\"dataframe\">\n",
       "  <thead>\n",
       "    <tr style=\"text-align: right;\">\n",
       "      <th></th>\n",
       "      <th>Price</th>\n",
       "      <th>Rank</th>\n",
       "      <th>Combination</th>\n",
       "      <th>Dry</th>\n",
       "      <th>Normal</th>\n",
       "      <th>Oily</th>\n",
       "      <th>Sensitive</th>\n",
       "    </tr>\n",
       "  </thead>\n",
       "  <tbody>\n",
       "    <tr>\n",
       "      <th>count</th>\n",
       "      <td>1472.000000</td>\n",
       "      <td>1472.000000</td>\n",
       "      <td>1472.00000</td>\n",
       "      <td>1472.000000</td>\n",
       "      <td>1472.000000</td>\n",
       "      <td>1472.000000</td>\n",
       "      <td>1472.000000</td>\n",
       "    </tr>\n",
       "    <tr>\n",
       "      <th>mean</th>\n",
       "      <td>55.584239</td>\n",
       "      <td>4.153261</td>\n",
       "      <td>0.65625</td>\n",
       "      <td>0.614130</td>\n",
       "      <td>0.652174</td>\n",
       "      <td>0.607337</td>\n",
       "      <td>0.513587</td>\n",
       "    </tr>\n",
       "    <tr>\n",
       "      <th>std</th>\n",
       "      <td>45.014429</td>\n",
       "      <td>0.633918</td>\n",
       "      <td>0.47512</td>\n",
       "      <td>0.486965</td>\n",
       "      <td>0.476442</td>\n",
       "      <td>0.488509</td>\n",
       "      <td>0.499985</td>\n",
       "    </tr>\n",
       "    <tr>\n",
       "      <th>min</th>\n",
       "      <td>3.000000</td>\n",
       "      <td>0.000000</td>\n",
       "      <td>0.00000</td>\n",
       "      <td>0.000000</td>\n",
       "      <td>0.000000</td>\n",
       "      <td>0.000000</td>\n",
       "      <td>0.000000</td>\n",
       "    </tr>\n",
       "    <tr>\n",
       "      <th>25%</th>\n",
       "      <td>30.000000</td>\n",
       "      <td>4.000000</td>\n",
       "      <td>0.00000</td>\n",
       "      <td>0.000000</td>\n",
       "      <td>0.000000</td>\n",
       "      <td>0.000000</td>\n",
       "      <td>0.000000</td>\n",
       "    </tr>\n",
       "    <tr>\n",
       "      <th>50%</th>\n",
       "      <td>42.500000</td>\n",
       "      <td>4.300000</td>\n",
       "      <td>1.00000</td>\n",
       "      <td>1.000000</td>\n",
       "      <td>1.000000</td>\n",
       "      <td>1.000000</td>\n",
       "      <td>1.000000</td>\n",
       "    </tr>\n",
       "    <tr>\n",
       "      <th>75%</th>\n",
       "      <td>68.000000</td>\n",
       "      <td>4.500000</td>\n",
       "      <td>1.00000</td>\n",
       "      <td>1.000000</td>\n",
       "      <td>1.000000</td>\n",
       "      <td>1.000000</td>\n",
       "      <td>1.000000</td>\n",
       "    </tr>\n",
       "    <tr>\n",
       "      <th>max</th>\n",
       "      <td>370.000000</td>\n",
       "      <td>5.000000</td>\n",
       "      <td>1.00000</td>\n",
       "      <td>1.000000</td>\n",
       "      <td>1.000000</td>\n",
       "      <td>1.000000</td>\n",
       "      <td>1.000000</td>\n",
       "    </tr>\n",
       "  </tbody>\n",
       "</table>\n",
       "</div>"
      ],
      "text/plain": [
       "             Price         Rank  Combination          Dry       Normal  \\\n",
       "count  1472.000000  1472.000000   1472.00000  1472.000000  1472.000000   \n",
       "mean     55.584239     4.153261      0.65625     0.614130     0.652174   \n",
       "std      45.014429     0.633918      0.47512     0.486965     0.476442   \n",
       "min       3.000000     0.000000      0.00000     0.000000     0.000000   \n",
       "25%      30.000000     4.000000      0.00000     0.000000     0.000000   \n",
       "50%      42.500000     4.300000      1.00000     1.000000     1.000000   \n",
       "75%      68.000000     4.500000      1.00000     1.000000     1.000000   \n",
       "max     370.000000     5.000000      1.00000     1.000000     1.000000   \n",
       "\n",
       "              Oily    Sensitive  \n",
       "count  1472.000000  1472.000000  \n",
       "mean      0.607337     0.513587  \n",
       "std       0.488509     0.499985  \n",
       "min       0.000000     0.000000  \n",
       "25%       0.000000     0.000000  \n",
       "50%       1.000000     1.000000  \n",
       "75%       1.000000     1.000000  \n",
       "max       1.000000     1.000000  "
      ]
     },
     "execution_count": 8,
     "metadata": {},
     "output_type": "execute_result"
    }
   ],
   "source": [
    "df.describe()"
   ]
  },
  {
   "cell_type": "code",
   "execution_count": 9,
   "id": "48f21879",
   "metadata": {
    "execution": {
     "iopub.execute_input": "2024-06-07T17:58:05.480685Z",
     "iopub.status.busy": "2024-06-07T17:58:05.480267Z",
     "iopub.status.idle": "2024-06-07T17:58:05.490542Z",
     "shell.execute_reply": "2024-06-07T17:58:05.489500Z"
    },
    "papermill": {
     "duration": 0.025822,
     "end_time": "2024-06-07T17:58:05.492832",
     "exception": false,
     "start_time": "2024-06-07T17:58:05.467010",
     "status": "completed"
    },
    "tags": []
   },
   "outputs": [
    {
     "data": {
      "text/plain": [
       "Label          0\n",
       "Brand          0\n",
       "Name           0\n",
       "Price          0\n",
       "Rank           0\n",
       "Ingredients    0\n",
       "Combination    0\n",
       "Dry            0\n",
       "Normal         0\n",
       "Oily           0\n",
       "Sensitive      0\n",
       "dtype: int64"
      ]
     },
     "execution_count": 9,
     "metadata": {},
     "output_type": "execute_result"
    }
   ],
   "source": [
    "df.isnull().sum()"
   ]
  },
  {
   "cell_type": "code",
   "execution_count": 10,
   "id": "076b54a9",
   "metadata": {
    "execution": {
     "iopub.execute_input": "2024-06-07T17:58:05.519550Z",
     "iopub.status.busy": "2024-06-07T17:58:05.518335Z",
     "iopub.status.idle": "2024-06-07T17:58:05.535870Z",
     "shell.execute_reply": "2024-06-07T17:58:05.534632Z"
    },
    "papermill": {
     "duration": 0.03384,
     "end_time": "2024-06-07T17:58:05.538616",
     "exception": false,
     "start_time": "2024-06-07T17:58:05.504776",
     "status": "completed"
    },
    "tags": []
   },
   "outputs": [
    {
     "data": {
      "text/html": [
       "<div>\n",
       "<style scoped>\n",
       "    .dataframe tbody tr th:only-of-type {\n",
       "        vertical-align: middle;\n",
       "    }\n",
       "\n",
       "    .dataframe tbody tr th {\n",
       "        vertical-align: top;\n",
       "    }\n",
       "\n",
       "    .dataframe thead th {\n",
       "        text-align: right;\n",
       "    }\n",
       "</style>\n",
       "<table border=\"1\" class=\"dataframe\">\n",
       "  <thead>\n",
       "    <tr style=\"text-align: right;\">\n",
       "      <th></th>\n",
       "      <th>Label</th>\n",
       "      <th>Brand</th>\n",
       "      <th>Name</th>\n",
       "      <th>Price</th>\n",
       "      <th>Rank</th>\n",
       "      <th>Ingredients</th>\n",
       "      <th>Combination</th>\n",
       "      <th>Dry</th>\n",
       "      <th>Normal</th>\n",
       "      <th>Oily</th>\n",
       "      <th>Sensitive</th>\n",
       "    </tr>\n",
       "  </thead>\n",
       "  <tbody>\n",
       "  </tbody>\n",
       "</table>\n",
       "</div>"
      ],
      "text/plain": [
       "Empty DataFrame\n",
       "Columns: [Label, Brand, Name, Price, Rank, Ingredients, Combination, Dry, Normal, Oily, Sensitive]\n",
       "Index: []"
      ]
     },
     "execution_count": 10,
     "metadata": {},
     "output_type": "execute_result"
    }
   ],
   "source": [
    "df[df.duplicated()]"
   ]
  },
  {
   "cell_type": "code",
   "execution_count": 11,
   "id": "78ebcff2",
   "metadata": {
    "execution": {
     "iopub.execute_input": "2024-06-07T17:58:05.565408Z",
     "iopub.status.busy": "2024-06-07T17:58:05.564457Z",
     "iopub.status.idle": "2024-06-07T17:58:05.571571Z",
     "shell.execute_reply": "2024-06-07T17:58:05.570463Z"
    },
    "papermill": {
     "duration": 0.023443,
     "end_time": "2024-06-07T17:58:05.574205",
     "exception": false,
     "start_time": "2024-06-07T17:58:05.550762",
     "status": "completed"
    },
    "tags": []
   },
   "outputs": [
    {
     "data": {
      "text/plain": [
       "(1472, 11)"
      ]
     },
     "execution_count": 11,
     "metadata": {},
     "output_type": "execute_result"
    }
   ],
   "source": [
    "df.shape"
   ]
  },
  {
   "cell_type": "markdown",
   "id": "5e510fd6",
   "metadata": {
    "papermill": {
     "duration": 0.012031,
     "end_time": "2024-06-07T17:58:05.598933",
     "exception": false,
     "start_time": "2024-06-07T17:58:05.586902",
     "status": "completed"
    },
    "tags": []
   },
   "source": [
    "# 1. Total Brands Names"
   ]
  },
  {
   "cell_type": "code",
   "execution_count": 12,
   "id": "6b9d9beb",
   "metadata": {
    "execution": {
     "iopub.execute_input": "2024-06-07T17:58:05.626363Z",
     "iopub.status.busy": "2024-06-07T17:58:05.625233Z",
     "iopub.status.idle": "2024-06-07T17:58:05.633659Z",
     "shell.execute_reply": "2024-06-07T17:58:05.632562Z"
    },
    "papermill": {
     "duration": 0.024896,
     "end_time": "2024-06-07T17:58:05.636226",
     "exception": false,
     "start_time": "2024-06-07T17:58:05.611330",
     "status": "completed"
    },
    "tags": []
   },
   "outputs": [
    {
     "data": {
      "text/plain": [
       "array(['LA MER', 'SK-II', 'DRUNK ELEPHANT', 'IT COSMETICS', 'TATCHA',\n",
       "       \"KIEHL'S SINCE 1851\", 'FRESH', 'BELIF', 'SUNDAY RILEY', 'FARMACY',\n",
       "       'FIRST AID BEAUTY', 'CLINIQUE', 'BAREMINERALS', 'SHISEIDO',\n",
       "       'CHARLOTTE TILBURY', 'ORIGINS', 'OLEHENRIKSEN', 'JOSIE MARAN',\n",
       "       'FARSÁLI', 'LANEIGE', 'DR. JART+', 'GLOW RECIPE', 'HERBIVORE',\n",
       "       'TARTE', 'CAUDALIE', 'YOUTH TO THE PEOPLE', 'BIOSSANCE',\n",
       "       'ESTÉE LAUDER', 'SON & PARK', 'AMOREPACIFIC', 'BOBBI BROWN',\n",
       "       'ERBORIAN', 'SMASHBOX', 'GLAMGLOW', 'PETER THOMAS ROTH',\n",
       "       'JACK BLACK', 'PHILOSOPHY', 'PERRICONE MD', 'LANCÔME', 'ALGENIST',\n",
       "       'MAKE UP FOR EVER', 'KORRES', 'MURAD', 'GUERLAIN', 'DIOR',\n",
       "       'KORA ORGANICS', 'DR. DENNIS GROSS SKINCARE', 'REN CLEAN SKINCARE',\n",
       "       'KOPARI', 'CLARINS', 'NURSE JAMIE', 'LANCER', \"L'OCCITANE\",\n",
       "       'KATE SOMERVILLE', 'SUPERGOOP!', 'SATURDAY SKIN',\n",
       "       'SEPHORA COLLECTION', 'MILK MAKEUP', 'DR. BRANDT SKINCARE',\n",
       "       'J.ONE', 'KAT VON D', 'TATA HARPER', 'GO-TO', 'BOSCIA', 'EVE LOM',\n",
       "       'MAKEUP ERASER', 'LAURA MERCIER', 'NEOGEN DERMALOGY', 'INDIE LEE',\n",
       "       'KOH GEN DO', 'VOLITION BEAUTY', 'TOO FACED',\n",
       "       'SKIN INC SUPPLEMENT BAR', 'NUFACE', 'KLORANE', 'BEAUTYBIO',\n",
       "       'NARS', 'BLITHE', 'ERNO LASZLO', 'CLARISONIC',\n",
       "       'FENTY BEAUTY BY RIHANNA', 'DERMADOCTOR', 'PEACE OUT', 'BIOEFFECT',\n",
       "       'BECCA', 'COVER FX', 'MOON JUICE', 'PRIVATE DOCTOR',\n",
       "       'HUM NUTRITION', 'FOREO', 'LIGHTSTIM', 'COOLA', 'OMOROVICZA',\n",
       "       'SUMMER FRIDAYS', 'SAND & SKY', 'TOO COOL FOR SCHOOL',\n",
       "       'DR ROEBUCK’S', 'SKIN LAUNDRY', 'ANTHONY',\n",
       "       'ST. TROPEZ TANNING ESSENTIALS', 'NATURALLY SERIOUS',\n",
       "       'WANDER BEAUTY', 'EDIBLE BEAUTY', 'YVES SAINT LAURENT', 'KENZOKI',\n",
       "       'APIVITA', 'ILIA', 'MDSOLARSCIENCES', 'MOROCCANOIL', 'TOM FORD',\n",
       "       'KAPLAN MD', 'CANE + AUSTIN', 'BLACK UP', 'VITA LIBERATA',\n",
       "       'URBAN DECAY', 'DERMAFLASH'], dtype=object)"
      ]
     },
     "execution_count": 12,
     "metadata": {},
     "output_type": "execute_result"
    }
   ],
   "source": [
    "df[\"Brand\"].unique()"
   ]
  },
  {
   "cell_type": "markdown",
   "id": "8b0be1e5",
   "metadata": {
    "papermill": {
     "duration": 0.012803,
     "end_time": "2024-06-07T17:58:05.661527",
     "exception": false,
     "start_time": "2024-06-07T17:58:05.648724",
     "status": "completed"
    },
    "tags": []
   },
   "source": [
    "# 2. Total Brands"
   ]
  },
  {
   "cell_type": "code",
   "execution_count": 13,
   "id": "6b257d47",
   "metadata": {
    "execution": {
     "iopub.execute_input": "2024-06-07T17:58:05.687813Z",
     "iopub.status.busy": "2024-06-07T17:58:05.687409Z",
     "iopub.status.idle": "2024-06-07T17:58:05.694971Z",
     "shell.execute_reply": "2024-06-07T17:58:05.693785Z"
    },
    "papermill": {
     "duration": 0.023861,
     "end_time": "2024-06-07T17:58:05.697750",
     "exception": false,
     "start_time": "2024-06-07T17:58:05.673889",
     "status": "completed"
    },
    "tags": []
   },
   "outputs": [
    {
     "data": {
      "text/plain": [
       "116"
      ]
     },
     "execution_count": 13,
     "metadata": {},
     "output_type": "execute_result"
    }
   ],
   "source": [
    "total_brands_count = len(df[\"Brand\"].unique())\n",
    "total_brands_count"
   ]
  },
  {
   "cell_type": "markdown",
   "id": "c1b77a3a",
   "metadata": {
    "papermill": {
     "duration": 0.012605,
     "end_time": "2024-06-07T17:58:05.723562",
     "exception": false,
     "start_time": "2024-06-07T17:58:05.710957",
     "status": "completed"
    },
    "tags": []
   },
   "source": [
    "# 3. Total Labels"
   ]
  },
  {
   "cell_type": "code",
   "execution_count": 14,
   "id": "599159eb",
   "metadata": {
    "execution": {
     "iopub.execute_input": "2024-06-07T17:58:05.750490Z",
     "iopub.status.busy": "2024-06-07T17:58:05.750090Z",
     "iopub.status.idle": "2024-06-07T17:58:05.757911Z",
     "shell.execute_reply": "2024-06-07T17:58:05.756836Z"
    },
    "papermill": {
     "duration": 0.024163,
     "end_time": "2024-06-07T17:58:05.760363",
     "exception": false,
     "start_time": "2024-06-07T17:58:05.736200",
     "status": "completed"
    },
    "tags": []
   },
   "outputs": [
    {
     "data": {
      "text/plain": [
       "6"
      ]
     },
     "execution_count": 14,
     "metadata": {},
     "output_type": "execute_result"
    }
   ],
   "source": [
    "total_Labels_count = len(df[\"Label\"].unique())\n",
    "total_Labels_count"
   ]
  },
  {
   "cell_type": "markdown",
   "id": "0240456b",
   "metadata": {
    "papermill": {
     "duration": 0.012379,
     "end_time": "2024-06-07T17:58:05.785880",
     "exception": false,
     "start_time": "2024-06-07T17:58:05.773501",
     "status": "completed"
    },
    "tags": []
   },
   "source": [
    "# 4. All Labels Names"
   ]
  },
  {
   "cell_type": "code",
   "execution_count": 15,
   "id": "baaa3945",
   "metadata": {
    "execution": {
     "iopub.execute_input": "2024-06-07T17:58:05.813506Z",
     "iopub.status.busy": "2024-06-07T17:58:05.812678Z",
     "iopub.status.idle": "2024-06-07T17:58:05.819304Z",
     "shell.execute_reply": "2024-06-07T17:58:05.818036Z"
    },
    "papermill": {
     "duration": 0.023313,
     "end_time": "2024-06-07T17:58:05.822009",
     "exception": false,
     "start_time": "2024-06-07T17:58:05.798696",
     "status": "completed"
    },
    "tags": []
   },
   "outputs": [
    {
     "name": "stdout",
     "output_type": "stream",
     "text": [
      "Unique Labels: ['Moisturizer' 'Cleanser' 'Treatment' 'Face Mask' 'Eye cream'\n",
      " 'Sun protect']\n"
     ]
    }
   ],
   "source": [
    "unique_labels = df[\"Label\"].unique()\n",
    "print(\"Unique Labels:\", unique_labels)"
   ]
  },
  {
   "cell_type": "markdown",
   "id": "685bbc6e",
   "metadata": {
    "papermill": {
     "duration": 0.014016,
     "end_time": "2024-06-07T17:58:05.848961",
     "exception": false,
     "start_time": "2024-06-07T17:58:05.834945",
     "status": "completed"
    },
    "tags": []
   },
   "source": [
    "# 5.the brand with the highest price"
   ]
  },
  {
   "cell_type": "code",
   "execution_count": 16,
   "id": "78caa5d2",
   "metadata": {
    "execution": {
     "iopub.execute_input": "2024-06-07T17:58:05.876546Z",
     "iopub.status.busy": "2024-06-07T17:58:05.876141Z",
     "iopub.status.idle": "2024-06-07T17:58:05.882547Z",
     "shell.execute_reply": "2024-06-07T17:58:05.881506Z"
    },
    "papermill": {
     "duration": 0.024076,
     "end_time": "2024-06-07T17:58:05.886011",
     "exception": false,
     "start_time": "2024-06-07T17:58:05.861935",
     "status": "completed"
    },
    "tags": []
   },
   "outputs": [
    {
     "name": "stdout",
     "output_type": "stream",
     "text": [
      "Brand with the highest price: LA MER\n"
     ]
    }
   ],
   "source": [
    "max_price_brand = df.loc[df[\"Price\"].idxmax(), \"Brand\"]\n",
    "print(\"Brand with the highest price:\", max_price_brand)"
   ]
  },
  {
   "cell_type": "markdown",
   "id": "992b14d4",
   "metadata": {
    "papermill": {
     "duration": 0.012622,
     "end_time": "2024-06-07T17:58:05.911624",
     "exception": false,
     "start_time": "2024-06-07T17:58:05.899002",
     "status": "completed"
    },
    "tags": []
   },
   "source": [
    "# 6.the Label with the highest price"
   ]
  },
  {
   "cell_type": "code",
   "execution_count": 17,
   "id": "a1ad89f3",
   "metadata": {
    "execution": {
     "iopub.execute_input": "2024-06-07T17:58:05.939775Z",
     "iopub.status.busy": "2024-06-07T17:58:05.938581Z",
     "iopub.status.idle": "2024-06-07T17:58:05.945048Z",
     "shell.execute_reply": "2024-06-07T17:58:05.943982Z"
    },
    "papermill": {
     "duration": 0.023358,
     "end_time": "2024-06-07T17:58:05.947931",
     "exception": false,
     "start_time": "2024-06-07T17:58:05.924573",
     "status": "completed"
    },
    "tags": []
   },
   "outputs": [
    {
     "name": "stdout",
     "output_type": "stream",
     "text": [
      "label with the highest price: Treatment\n"
     ]
    }
   ],
   "source": [
    "max_price_Label = df.loc[df[\"Price\"].idxmax(), \"Label\"]\n",
    "print(\"label with the highest price:\", max_price_Label)"
   ]
  },
  {
   "cell_type": "markdown",
   "id": "76d6bd8b",
   "metadata": {
    "papermill": {
     "duration": 0.012666,
     "end_time": "2024-06-07T17:58:05.973637",
     "exception": false,
     "start_time": "2024-06-07T17:58:05.960971",
     "status": "completed"
    },
    "tags": []
   },
   "source": [
    "# 7.the brand with the highest Rating"
   ]
  },
  {
   "cell_type": "code",
   "execution_count": 18,
   "id": "e78aab2b",
   "metadata": {
    "execution": {
     "iopub.execute_input": "2024-06-07T17:58:06.002303Z",
     "iopub.status.busy": "2024-06-07T17:58:06.001930Z",
     "iopub.status.idle": "2024-06-07T17:58:06.008885Z",
     "shell.execute_reply": "2024-06-07T17:58:06.007856Z"
    },
    "papermill": {
     "duration": 0.024507,
     "end_time": "2024-06-07T17:58:06.011348",
     "exception": false,
     "start_time": "2024-06-07T17:58:05.986841",
     "status": "completed"
    },
    "tags": []
   },
   "outputs": [
    {
     "name": "stdout",
     "output_type": "stream",
     "text": [
      "Brand with the highest rating: LA MER\n"
     ]
    }
   ],
   "source": [
    "print(\"Brand with the highest rating:\", df.loc[df[\"Rank\"].idxmax(), \"Brand\"])"
   ]
  },
  {
   "cell_type": "markdown",
   "id": "da4230f0",
   "metadata": {
    "papermill": {
     "duration": 0.012713,
     "end_time": "2024-06-07T17:58:06.037288",
     "exception": false,
     "start_time": "2024-06-07T17:58:06.024575",
     "status": "completed"
    },
    "tags": []
   },
   "source": [
    "# 8. Number of brands suitable for all skin type\n"
   ]
  },
  {
   "cell_type": "code",
   "execution_count": 19,
   "id": "8d1bcb42",
   "metadata": {
    "execution": {
     "iopub.execute_input": "2024-06-07T17:58:06.066537Z",
     "iopub.status.busy": "2024-06-07T17:58:06.066096Z",
     "iopub.status.idle": "2024-06-07T17:58:06.076410Z",
     "shell.execute_reply": "2024-06-07T17:58:06.075299Z"
    },
    "papermill": {
     "duration": 0.028227,
     "end_time": "2024-06-07T17:58:06.079108",
     "exception": false,
     "start_time": "2024-06-07T17:58:06.050881",
     "status": "completed"
    },
    "tags": []
   },
   "outputs": [
    {
     "name": "stdout",
     "output_type": "stream",
     "text": [
      "Number of brands suitable for all skin types: 91\n"
     ]
    }
   ],
   "source": [
    "all_skin_types_count = df[(df[\"Combination\"] == 1) & \n",
    "                          (df[\"Dry\"] == 1) & \n",
    "                          (df[\"Normal\"] == 1) & \n",
    "                          (df[\"Oily\"] == 1) & \n",
    "                          (df[\"Sensitive\"] == 1)][\"Brand\"].nunique()\n",
    "\n",
    "print(\"Number of brands suitable for all skin types:\", all_skin_types_count)\n",
    "\n"
   ]
  },
  {
   "cell_type": "markdown",
   "id": "8e2ee9df",
   "metadata": {
    "papermill": {
     "duration": 0.012648,
     "end_time": "2024-06-07T17:58:06.105049",
     "exception": false,
     "start_time": "2024-06-07T17:58:06.092401",
     "status": "completed"
    },
    "tags": []
   },
   "source": [
    "# 9 Top 5 highest-ranked brands"
   ]
  },
  {
   "cell_type": "code",
   "execution_count": 20,
   "id": "d73ae720",
   "metadata": {
    "execution": {
     "iopub.execute_input": "2024-06-07T17:58:06.133167Z",
     "iopub.status.busy": "2024-06-07T17:58:06.132778Z",
     "iopub.status.idle": "2024-06-07T17:58:06.141216Z",
     "shell.execute_reply": "2024-06-07T17:58:06.139942Z"
    },
    "papermill": {
     "duration": 0.025352,
     "end_time": "2024-06-07T17:58:06.143607",
     "exception": false,
     "start_time": "2024-06-07T17:58:06.118255",
     "status": "completed"
    },
    "tags": []
   },
   "outputs": [
    {
     "name": "stdout",
     "output_type": "stream",
     "text": [
      "Top 5 highest-ranked brands: ['BIOEFFECT', 'SEPHORA COLLECTION', 'PERRICONE MD', 'FOREO', 'DIOR']\n"
     ]
    }
   ],
   "source": [
    "top_5_highest_rank_brands = df.sort_values(by=\"Rank\", ascending=False).head(5)[\"Brand\"]\n",
    "print(\"Top 5 highest-ranked brands:\", top_5_highest_rank_brands.tolist())"
   ]
  },
  {
   "cell_type": "code",
   "execution_count": 21,
   "id": "f6feddd2",
   "metadata": {
    "execution": {
     "iopub.execute_input": "2024-06-07T17:58:06.172398Z",
     "iopub.status.busy": "2024-06-07T17:58:06.171604Z",
     "iopub.status.idle": "2024-06-07T17:58:06.545680Z",
     "shell.execute_reply": "2024-06-07T17:58:06.544576Z"
    },
    "papermill": {
     "duration": 0.391436,
     "end_time": "2024-06-07T17:58:06.548345",
     "exception": false,
     "start_time": "2024-06-07T17:58:06.156909",
     "status": "completed"
    },
    "tags": []
   },
   "outputs": [
    {
     "data": {
      "image/png": "[encoded data removed]",
      "text/plain": [
       "<Figure size 640x480 with 1 Axes>"
      ]
     },
     "metadata": {},
     "output_type": "display_data"
    }
   ],
   "source": [
    "\n",
    "import matplotlib.pyplot as plt\n",
    "\n",
    "# Plot histogram of product ratings\n",
    "plt.hist(df[\"Rank\"], bins=10, color='skyblue', edgecolor='black')\n",
    "plt.title('Distribution of Product Ratings')\n",
    "plt.xlabel('Rating')\n",
    "plt.ylabel('Frequency')\n",
    "plt.grid(True)\n",
    "plt.show()\n"
   ]
  },
  {
   "cell_type": "code",
   "execution_count": 22,
   "id": "d01e54df",
   "metadata": {
    "execution": {
     "iopub.execute_input": "2024-06-07T17:58:06.577816Z",
     "iopub.status.busy": "2024-06-07T17:58:06.577380Z",
     "iopub.status.idle": "2024-06-07T17:58:22.186562Z",
     "shell.execute_reply": "2024-06-07T17:58:22.185279Z"
    },
    "papermill": {
     "duration": 15.628248,
     "end_time": "2024-06-07T17:58:22.190543",
     "exception": false,
     "start_time": "2024-06-07T17:58:06.562295",
     "status": "completed"
    },
    "tags": []
   },
   "outputs": [
    {
     "data": {
      "image/png": "[encoded data removed]",
      "text/plain": [
       "<Figure size 1750x1750 with 56 Axes>"
      ]
     },
     "metadata": {},
     "output_type": "display_data"
    }
   ],
   "source": [
    "import seaborn as sns\n",
    "\n",
    "# Selecting numerical columns for pair plot\n",
    "numerical_columns = ['Price', 'Rank', 'Combination', 'Dry', 'Normal', 'Oily', 'Sensitive']\n",
    "\n",
    "# Creating pair plot\n",
    "sns.pairplot(df[numerical_columns])\n",
    "plt.show()\n",
    "\n"
   ]
  },
  {
   "cell_type": "code",
   "execution_count": null,
   "id": "4a2ac328",
   "metadata": {
    "papermill": {
     "duration": 0.016426,
     "end_time": "2024-06-07T17:58:22.224816",
     "exception": false,
     "start_time": "2024-06-07T17:58:22.208390",
     "status": "completed"
    },
    "tags": []
   },
   "outputs": [],
   "source": [
    "\n"
   ]
  },
  {
   "cell_type": "code",
   "execution_count": null,
   "id": "397f1235",
   "metadata": {
    "papermill": {
     "duration": 0.016276,
     "end_time": "2024-06-07T17:58:22.257696",
     "exception": false,
     "start_time": "2024-06-07T17:58:22.241420",
     "status": "completed"
    },
    "tags": []
   },
   "outputs": [],
   "source": []
  }
 ],
 "metadata": {
  "kaggle": {
   "accelerator": "none",
   "dataSources": [
    {
     "datasetId": 1040820,
     "sourceId": 1751441,
     "sourceType": "datasetVersion"
    }
   ],
   "dockerImageVersionId": 30732,
   "isGpuEnabled": false,
   "isInternetEnabled": true,
   "language": "python",
   "sourceType": "notebook"
  },
  "kernelspec": {
   "display_name": "Python 3",
   "language": "python",
   "name": "python3"
  },
  "language_info": {
   "codemirror_mode": {
    "name": "ipython",
    "version": 3
   },
   "file_extension": ".py",
   "mimetype": "text/x-python",
   "name": "python",
   "nbconvert_exporter": "python",
   "pygments_lexer": "ipython3",
   "version": "3.10.13"
  },
  "papermill": {
   "default_parameters": {},
   "duration": 23.735022,
   "end_time": "2024-06-07T17:58:23.199785",
   "environment_variables": {},
   "exception": null,
   "input_path": "__notebook__.ipynb",
   "output_path": "__notebook__.ipynb",
   "parameters": {},
   "start_time": "2024-06-07T17:57:59.464763",
   "version": "2.5.0"
  }
 },
 "nbformat": 4,
 "nbformat_minor": 5
}
